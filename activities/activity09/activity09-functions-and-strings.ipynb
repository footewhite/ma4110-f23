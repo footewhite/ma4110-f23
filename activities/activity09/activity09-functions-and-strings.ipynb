{
 "cells": [
  {
   "cell_type": "code",
   "execution_count": 1,
   "id": "f91c6ca2-5c14-49ce-a301-7a3ca2c0c710",
   "metadata": {},
   "outputs": [],
   "source": [
    "from datascience import *\n",
    "import numpy as np\n",
    "\n",
    "%matplotlib inline\n",
    "import matplotlib.pyplot as plots\n",
    "plots.style.use('fivethirtyeight')"
   ]
  },
  {
   "cell_type": "markdown",
   "id": "9e6cedb4-f184-4826-bc4e-66be45a9fd53",
   "metadata": {},
   "source": [
    "# Activity 09: Functions and Strings\n",
    "\n",
    "In this activity you will need to complete two tasks\n",
    "\n",
    "1. Plot the distribution of average heights of male and females from a group of countries.\n",
    "\n",
    "2. Find the average human height - based on male and female heights from a group of countries."
   ]
  },
  {
   "cell_type": "markdown",
   "id": "64a0b339-2765-49bb-b3e5-2f94d564d199",
   "metadata": {},
   "source": [
    "## Step 1: Load the Data"
   ]
  },
  {
   "cell_type": "code",
   "execution_count": 2,
   "id": "49a6c817-e64f-43b0-8cff-d607942279b2",
   "metadata": {},
   "outputs": [
    {
     "data": {
      "text/html": [
       "<table border=\"1\" class=\"dataframe\">\n",
       "    <thead>\n",
       "        <tr>\n",
       "            <th>Country</th> <th>Average male height</th> <th>Average female height</th>\n",
       "        </tr>\n",
       "    </thead>\n",
       "    <tbody>\n",
       "        <tr>\n",
       "            <td>Argentina  </td> <td>174.46 cm (5 ft 8.6 in)</td> <td>161.03 cm (5 ft 3.4 in)</td>\n",
       "        </tr>\n",
       "        <tr>\n",
       "            <td>Australia  </td> <td>178.4 cm (5' 10.2\")    </td> <td>163.9 cm (5' 4.5\")     </td>\n",
       "        </tr>\n",
       "        <tr>\n",
       "            <td>Bahrain    </td> <td>165.1 cm (5' 5\")       </td> <td>154.7 cm (5' 1\")       </td>\n",
       "        </tr>\n",
       "        <tr>\n",
       "            <td>Belgium    </td> <td>176.6 cm (5' 9.5\")     </td> <td>163.3 cm (5' 4.3\")     </td>\n",
       "        </tr>\n",
       "        <tr>\n",
       "            <td>Brazil     </td> <td>169.0 cm (5' 6.5\")     </td> <td>158.0 cm (5' 2.2\")     </td>\n",
       "        </tr>\n",
       "        <tr>\n",
       "            <td>Cameroon   </td> <td>170.6 cm (5' 7.2\")     </td> <td>161.3 cm (5' 3.5\")     </td>\n",
       "        </tr>\n",
       "        <tr>\n",
       "            <td>Canada     </td> <td>174 cm (5' 8.5\")       </td> <td>161.0 cm (5' 3.4\")     </td>\n",
       "        </tr>\n",
       "        <tr>\n",
       "            <td>China (PRC)</td> <td>164.8 cm (5' 4.9\")     </td> <td>154.5 cm (5' 0.8\")     </td>\n",
       "        </tr>\n",
       "        <tr>\n",
       "            <td>China      </td> <td>169.4 cm (5' 6.7\")     </td> <td>158.6 cm (5' 2.5\")     </td>\n",
       "        </tr>\n",
       "        <tr>\n",
       "            <td>Colombia   </td> <td>170.64 cm (5' 7.2\")    </td> <td>158.65 cm (5' 2.4\")    </td>\n",
       "        </tr>\n",
       "    </tbody>\n",
       "</table>\n",
       "<p>... (44 rows omitted)</p>"
      ],
      "text/plain": [
       "Country     | Average male height     | Average female height\n",
       "Argentina   | 174.46 cm (5 ft 8.6 in) | 161.03 cm (5 ft 3.4 in)\n",
       "Australia   | 178.4 cm (5' 10.2\")     | 163.9 cm (5' 4.5\")\n",
       "Bahrain     | 165.1 cm (5' 5\")        | 154.7 cm (5' 1\")\n",
       "Belgium     | 176.6 cm (5' 9.5\")      | 163.3 cm (5' 4.3\")\n",
       "Brazil      | 169.0 cm (5' 6.5\")      | 158.0 cm (5' 2.2\")\n",
       "Cameroon    | 170.6 cm (5' 7.2\")      | 161.3 cm (5' 3.5\")\n",
       "Canada      | 174 cm (5' 8.5\")        | 161.0 cm (5' 3.4\")\n",
       "China (PRC) | 164.8 cm (5' 4.9\")      | 154.5 cm (5' 0.8\")\n",
       "China       | 169.4 cm (5' 6.7\")      | 158.6 cm (5' 2.5\")\n",
       "Colombia    | 170.64 cm (5' 7.2\")     | 158.65 cm (5' 2.4\")\n",
       "... (44 rows omitted)"
      ]
     },
     "execution_count": 2,
     "metadata": {},
     "output_type": "execute_result"
    }
   ],
   "source": [
    "heights = Table().read_table('data/human_heights.csv')\n",
    "heights"
   ]
  },
  {
   "cell_type": "markdown",
   "id": "0e1920af-2d32-4326-8f3f-81ed39310d19",
   "metadata": {},
   "source": [
    "## Step 2: Change the Heights"
   ]
  },
  {
   "cell_type": "code",
   "execution_count": 3,
   "id": "b1c66e2b-7a48-4134-829b-b207b6b09f53",
   "metadata": {
    "scrolled": true,
    "tags": []
   },
   "outputs": [
    {
     "data": {
      "text/plain": [
       "array(['174.46 cm (5 ft 8.6 in)', '178.4 cm (5\\' 10.2\")',\n",
       "       '165.1 cm (5\\' 5\")', '176.6 cm (5\\' 9.5\")', '169.0 cm (5\\' 6.5\")',\n",
       "       '170.6 cm (5\\' 7.2\")', '174 cm (5\\' 8.5\")', '164.8 cm (5\\' 4.9\")',\n",
       "       '169.4 cm (5\\' 6.7\")', '170.64 cm (5\\' 7.2\")', '170.1 cm (5\\' 7\")',\n",
       "       '180.3 cm (5\\' 11\")', '185.6 cm (6\\' 1.0\")', '178.2 cm (5\\' 10\")',\n",
       "       '174.1 cm (5\\' 8.5\")', '169.46 cm (5\\' 6.7\")',\n",
       "       '168.0 cm (5\\' 6.1\")', '178.1 cm (5\\' 10\")', '157.5 cm (5\\' 2\")',\n",
       "       '170 cm (5\\' 7\")', '179.14 cm (5\\' 10.4\")', '181.7 cm (5\\' 11.5\")',\n",
       "       '165.3 cm (5\\' 5\")', '158.0 cm (5\\' 2.2\")', '162.4 cm (5\\' 3.9\")',\n",
       "       '174.24 cm (5\\' 8.6\")', '165.4 cm (5\\' 5.1\")',\n",
       "       '175.6 cm (5\\' 9.2\")', '176.9 cm (5\\' 9.7\")', '174.2 cm (5\\' 8.0\")',\n",
       "       '171.2 cm (5\\' 7.4\")', '175.26 cm (5\\' 9\")', '164.7 cm (5\\' 4.8\")',\n",
       "       '169 cm (5\\' 6.5\")', '166 cm (5\\' 5.3\")', '171.3 cm (5\\' 7.4\")',\n",
       "       '167 cm (5\\' 5.7\")', '184.8 cm (6\\' 0.8\")', '177.0 cm (5\\' 9.7\")',\n",
       "       '163.8 cm (5\\' 4.5\")', '179.9 cm (5\\' 10.8\")',\n",
       "       '163.5 cm (5\\' 4.4\")', '172.8 cm (5\\' 8\")', '170.6 cm (5\\' 7.2\")',\n",
       "       '169.0 cm (5\\' 6.5\")', '170 cm (5\\' 7\")', '180 cm (5\\' 10.9\")',\n",
       "       '175.5 cm (5\\' 9\")', '171.45 cm (5\\' 7.5\")', '167.5 cm (5\\' 5.9\")',\n",
       "       '173.74 cm (5\\' 8.4\")', '176.8 cm (5\\' 9.6\")',\n",
       "       '178.2 cm (5\\' 10.2\")', '167 cm'],\n",
       "      dtype='<U23')"
      ]
     },
     "execution_count": 3,
     "metadata": {},
     "output_type": "execute_result"
    }
   ],
   "source": [
    "heights.column(1)"
   ]
  },
  {
   "cell_type": "code",
   "execution_count": 4,
   "id": "f3f4b515-627f-4dc0-87df-27ce66df5274",
   "metadata": {},
   "outputs": [
    {
     "data": {
      "text/plain": [
       "'174.46 cm (5 ft 8.6 in)'"
      ]
     },
     "execution_count": 4,
     "metadata": {},
     "output_type": "execute_result"
    }
   ],
   "source": [
    "heights.column(1)[0]"
   ]
  },
  {
   "cell_type": "code",
   "execution_count": 5,
   "id": "1daf8fdb-6378-404e-9814-355572dd71a8",
   "metadata": {},
   "outputs": [
    {
     "data": {
      "text/plain": [
       "['174.46', 'cm', '(5', 'ft', '8.6', 'in)']"
      ]
     },
     "execution_count": 5,
     "metadata": {},
     "output_type": "execute_result"
    }
   ],
   "source": [
    "heights.column(1)[0].split(\" \")"
   ]
  },
  {
   "cell_type": "code",
   "execution_count": 6,
   "id": "b4492031-e814-4424-b486-76835c0c2f7d",
   "metadata": {},
   "outputs": [
    {
     "data": {
      "text/plain": [
       "'174.46'"
      ]
     },
     "execution_count": 6,
     "metadata": {},
     "output_type": "execute_result"
    }
   ],
   "source": [
    "heights.column(1)[0].split(\" \")[0]"
   ]
  },
  {
   "cell_type": "code",
   "execution_count": 7,
   "id": "0d7e3e15-8bbf-4b5b-89db-9b9322935733",
   "metadata": {},
   "outputs": [
    {
     "data": {
      "text/plain": [
       "174.46"
      ]
     },
     "execution_count": 7,
     "metadata": {},
     "output_type": "execute_result"
    }
   ],
   "source": [
    "float(heights.column(1)[0].split(\" \")[0])"
   ]
  },
  {
   "cell_type": "code",
   "execution_count": 8,
   "id": "f28f73b3-36d0-446a-b44e-56f25866a9f4",
   "metadata": {},
   "outputs": [],
   "source": [
    "def str_to_float(x):\n",
    "    return float(x.split(\" \")[0])"
   ]
  },
  {
   "cell_type": "code",
   "execution_count": 9,
   "id": "29dbcab9-034c-4620-b4fe-4246b72c5265",
   "metadata": {},
   "outputs": [
    {
     "data": {
      "text/plain": [
       "174.46"
      ]
     },
     "execution_count": 9,
     "metadata": {},
     "output_type": "execute_result"
    }
   ],
   "source": [
    "str_to_float(heights.column(1)[0])"
   ]
  },
  {
   "cell_type": "code",
   "execution_count": 10,
   "id": "fdd487a9-e13e-4cc5-9957-d4d263b9dccc",
   "metadata": {},
   "outputs": [
    {
     "data": {
      "text/plain": [
       "array([ 174.46,  178.4 ,  165.1 ,  176.6 ,  169.  ,  170.6 ,  174.  ,\n",
       "        164.8 ,  169.4 ,  170.64,  170.1 ,  180.3 ,  185.6 ,  178.2 ,\n",
       "        174.1 ,  169.46,  168.  ,  178.1 ,  157.5 ,  170.  ,  179.14,\n",
       "        181.7 ,  165.3 ,  158.  ,  162.4 ,  174.24,  165.4 ,  175.6 ,\n",
       "        176.9 ,  174.2 ,  171.2 ,  175.26,  164.7 ,  169.  ,  166.  ,\n",
       "        171.3 ,  167.  ,  184.8 ,  177.  ,  163.8 ,  179.9 ,  163.5 ,\n",
       "        172.8 ,  170.6 ,  169.  ,  170.  ,  180.  ,  175.5 ,  171.45,\n",
       "        167.5 ,  173.74,  176.8 ,  178.2 ,  167.  ])"
      ]
     },
     "execution_count": 10,
     "metadata": {},
     "output_type": "execute_result"
    }
   ],
   "source": [
    "male_height = heights.apply(str_to_float, 'Average male height')\n",
    "male_height"
   ]
  },
  {
   "cell_type": "code",
   "execution_count": 11,
   "id": "603b5abd-5793-4795-9681-fb6ccab11c3b",
   "metadata": {},
   "outputs": [
    {
     "data": {
      "text/plain": [
       "array([ 161.03,  163.9 ,  154.7 ,  163.3 ,  158.  ,  161.3 ,  161.  ,\n",
       "        154.5 ,  158.6 ,  158.65,  159.1 ,  167.3 ,  171.  ,  164.7 ,\n",
       "        161.9 ,  158.53,  157.8 ,  165.  ,  142.2 ,  158.8 ,  165.84,\n",
       "        167.6 ,  165.3 ,  147.  ,  151.3 ,  160.  ,  155.8 ,  162.7 ,\n",
       "        163.2 ,  160.8 ,  158.8 ,  162.56,  153.3 ,  159.  ,  155.  ,\n",
       "        160.4 ,  155.  ,  168.7 ,  165.  ,  157.8 ,  167.2 ,  151.8 ,\n",
       "        172.9 ,  160.  ,  159.  ,  161.  ,  166.9 ,  164.  ,  159.68,\n",
       "        157.3 ,  161.4 ,  163.7 ,  164.1 ,  156.  ])"
      ]
     },
     "execution_count": 11,
     "metadata": {},
     "output_type": "execute_result"
    }
   ],
   "source": [
    "female_height = heights.apply(str_to_float, 'Average female height')\n",
    "female_height"
   ]
  },
  {
   "cell_type": "markdown",
   "id": "5ad9babd-931c-4d4c-994a-6a9988e2021e",
   "metadata": {},
   "source": [
    "## Step 3: Create the Visualization"
   ]
  },
  {
   "cell_type": "code",
   "execution_count": 12,
   "id": "f0dcb9e7-7831-48c3-971b-c47d29dadbd1",
   "metadata": {},
   "outputs": [
    {
     "data": {
      "text/plain": [
       "(array([  2.,   1.,   7.,   5.,  14.,   6.,   8.,   6.,   3.,   2.]),\n",
       " array([ 157.5 ,  160.31,  163.12,  165.93,  168.74,  171.55,  174.36,\n",
       "         177.17,  179.98,  182.79,  185.6 ]),\n",
       " <BarContainer object of 10 artists>)"
      ]
     },
     "execution_count": 12,
     "metadata": {},
     "output_type": "execute_result"
    },
    {
     "data": {
      "image/png": "[encoded data removed]",
      "text/plain": [
       "<Figure size 640x480 with 1 Axes>"
      ]
     },
     "metadata": {},
     "output_type": "display_data"
    }
   ],
   "source": [
    "plots.hist(male_height)"
   ]
  },
  {
   "cell_type": "code",
   "execution_count": 13,
   "id": "8587c1e4-a5ca-49c4-b6e3-870a57827048",
   "metadata": {},
   "outputs": [
    {
     "data": {
      "text/plain": [
       "(array([  1.,   1.,   1.,   2.,   7.,  15.,  11.,   9.,   5.,   2.]),\n",
       " array([ 142.2 ,  145.27,  148.34,  151.41,  154.48,  157.55,  160.62,\n",
       "         163.69,  166.76,  169.83,  172.9 ]),\n",
       " <BarContainer object of 10 artists>)"
      ]
     },
     "execution_count": 13,
     "metadata": {},
     "output_type": "execute_result"
    },
    {
     "data": {
      "image/png": "[encoded data removed]",
      "text/plain": [
       "<Figure size 640x480 with 1 Axes>"
      ]
     },
     "metadata": {},
     "output_type": "display_data"
    }
   ],
   "source": [
    "plots.hist(female_height)"
   ]
  },
  {
   "cell_type": "markdown",
   "id": "bc4742d6-8d5c-4bcd-a34b-b224d51456b3",
   "metadata": {},
   "source": [
    "## Step 4: Compute the Average \"Human Height\""
   ]
  },
  {
   "cell_type": "code",
   "execution_count": 14,
   "id": "1743d61c-12fb-4e52-8566-d37b31881008",
   "metadata": {},
   "outputs": [
    {
     "data": {
      "text/plain": [
       "array([ 174.46,  178.4 ,  165.1 ,  176.6 ,  169.  ,  170.6 ,  174.  ,\n",
       "        164.8 ,  169.4 ,  170.64,  170.1 ,  180.3 ,  185.6 ,  178.2 ,\n",
       "        174.1 ,  169.46,  168.  ,  178.1 ,  157.5 ,  170.  ,  179.14,\n",
       "        181.7 ,  165.3 ,  158.  ,  162.4 ,  174.24,  165.4 ,  175.6 ,\n",
       "        176.9 ,  174.2 ,  171.2 ,  175.26,  164.7 ,  169.  ,  166.  ,\n",
       "        171.3 ,  167.  ,  184.8 ,  177.  ,  163.8 ,  179.9 ,  163.5 ,\n",
       "        172.8 ,  170.6 ,  169.  ,  170.  ,  180.  ,  175.5 ,  171.45,\n",
       "        167.5 ,  173.74,  176.8 ,  178.2 ,  167.  ,  161.03,  163.9 ,\n",
       "        154.7 ,  163.3 ,  158.  ,  161.3 ,  161.  ,  154.5 ,  158.6 ,\n",
       "        158.65,  159.1 ,  167.3 ,  171.  ,  164.7 ,  161.9 ,  158.53,\n",
       "        157.8 ,  165.  ,  142.2 ,  158.8 ,  165.84,  167.6 ,  165.3 ,\n",
       "        147.  ,  151.3 ,  160.  ,  155.8 ,  162.7 ,  163.2 ,  160.8 ,\n",
       "        158.8 ,  162.56,  153.3 ,  159.  ,  155.  ,  160.4 ,  155.  ,\n",
       "        168.7 ,  165.  ,  157.8 ,  167.2 ,  151.8 ,  172.9 ,  160.  ,\n",
       "        159.  ,  161.  ,  166.9 ,  164.  ,  159.68,  157.3 ,  161.4 ,\n",
       "        163.7 ,  164.1 ,  156.  ])"
      ]
     },
     "execution_count": 14,
     "metadata": {},
     "output_type": "execute_result"
    }
   ],
   "source": [
    "np.concatenate((male_height, female_height))"
   ]
  },
  {
   "cell_type": "code",
   "execution_count": 15,
   "id": "e780f837-3056-43f0-a36f-c369259f664a",
   "metadata": {},
   "outputs": [
    {
     "data": {
      "text/plain": [
       "166.15444444444441"
      ]
     },
     "execution_count": 15,
     "metadata": {},
     "output_type": "execute_result"
    }
   ],
   "source": [
    "np.mean(np.concatenate((male_height, female_height)))"
   ]
  }
 ],
 "metadata": {
  "kernelspec": {
   "display_name": "Python 3 (ipykernel)",
   "language": "python",
   "name": "python3"
  },
  "language_info": {
   "codemirror_mode": {
    "name": "ipython",
    "version": 3
   },
   "file_extension": ".py",
   "mimetype": "text/x-python",
   "name": "python",
   "nbconvert_exporter": "python",
   "pygments_lexer": "ipython3",
   "version": "3.11.4"
  }
 },
 "nbformat": 4,
 "nbformat_minor": 5
}
